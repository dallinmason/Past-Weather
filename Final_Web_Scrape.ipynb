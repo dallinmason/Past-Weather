{
 "cells": [
  {
   "cell_type": "code",
   "execution_count": null,
   "id": "c05022e8",
   "metadata": {},
   "outputs": [],
   "source": [
    "#import packages\n",
    "import numpy as np\n",
    "import pandas as pd\n",
    "from bs4 import BeautifulSoup as bs\n",
    "import requests\n",
    "from urllib.request import urlopen as uReq "
   ]
  },
  {
   "cell_type": "code",
   "execution_count": null,
   "id": "5a7c593e",
   "metadata": {},
   "outputs": [],
   "source": [
    "#import website\n",
    "myurl = 'https://www.localconditions.com/weather-salt-lake-city-utah/84101/past.php'\n",
    "myurl\n",
    "\n",
    "\n",
    "#use uReq to open url\n",
    "Client = uReq(myurl)\n",
    "#read the page\n",
    "page_html = Client.read()\n",
    "#close the connection\n",
    "Client.close()\n",
    "#use beautiful soup to obtain the html code\n",
    "page_soup = bs(page_html, \"html.parser\")\n",
    "\n"
   ]
  },
  {
   "cell_type": "code",
   "execution_count": null,
   "id": "d6224dcb",
   "metadata": {},
   "outputs": [],
   "source": [
    "#experimentation with data\n",
    "page_soup.h1\n",
    "page_soup.findAll(\"div\",{\"id\":\"day1\"})\n",
    "\n"
   ]
  },
  {
   "cell_type": "code",
   "execution_count": null,
   "id": "e31a4b84",
   "metadata": {},
   "outputs": [],
   "source": [
    "#create a list of containers with tables that I want\n",
    "containers = page_soup.findAll(\"table\",{\"class\":\"table table-bordered pastwx_grid\"})\n",
    "\n",
    "len(containers)\n"
   ]
  },
  {
   "cell_type": "code",
   "execution_count": null,
   "id": "d69183a1",
   "metadata": {},
   "outputs": [],
   "source": [
    "\n",
    "#perform data creation to format a correct table\n",
    "n = 0\n",
    "date = []\n",
    "time = []\n",
    "temp = []\n",
    "hum = []\n",
    "dew = []\n",
    "speed = []\n",
    "bar = []\n",
    "data = { 'date':[], 'time':[], 'temp':[], 'hum':[], 'dew':[],'bar':[],'speed':[]}\n",
    "for container in containers:\n",
    "    n += 1\n",
    "    for j in container.find_all('tbody'):\n",
    "        data['date'].append(n)\n",
    "        data['time'].append([container.text for container in j.find_all('td')][0])\n",
    "        data['temp'].append([container.text for container in j.find_all('td')][1])\n",
    "        data['hum'].append([container.text for container in j.find_all('td')][2])\n",
    "        data['dew'].append([container.text for container in j.find_all('td')][3])\n",
    "        data['bar'].append([container.text for container in j.find_all('td')][4])\n",
    "        data['speed'].append([container.text for container in j.find_all('td')][5])"
   ]
  },
  {
   "cell_type": "code",
   "execution_count": null,
   "id": "5e6ff350",
   "metadata": {},
   "outputs": [],
   "source": [
    " #make this a dataframe and name columns  \n",
    "df1 = pd.DataFrame(data)\n",
    "df1.columns =['Date','Time','Temperature','Humidity','Dew Point','Bar. Pressure','Wind Speed']\n",
    "   "
   ]
  },
  {
   "cell_type": "code",
   "execution_count": null,
   "id": "11c35ec2",
   "metadata": {},
   "outputs": [],
   "source": [
    "#filter our data based on times of the day   \n",
    "result = pd.DataFrame()\n",
    "result = pd.concat([df1[df1.Time == '6:00 AM'],result])\n",
    "result = pd.concat([df1[df1.Time == '8:00 AM'],result])\n",
    "result = pd.concat([df1[df1.Time == '10:00 AM'],result])\n",
    "result = pd.concat([df1[df1.Time == '12:00 PM'],result])\n",
    "result = pd.concat([df1[df1.Time == '2:00 PM'],result])\n",
    "result = pd.concat([df1[df1.Time == '4:00 PM'],result])\n",
    "result = pd.concat([df1[df1.Time == '6:00 PM'],result])\n",
    "result = pd.concat([df1[df1.Time == '8:00 PM'],result])\n",
    "result = pd.concat([df1[df1.Time == '10:00 PM'],result])\n",
    "\n",
    "result"
   ]
  },
  {
   "cell_type": "code",
   "execution_count": null,
   "id": "abbcaa72",
   "metadata": {},
   "outputs": [],
   "source": [
    "#export results to a csv file\n",
    "result.to_csv('weather.csv',index = False)\n"
   ]
  }
 ],
 "metadata": {
  "kernelspec": {
   "display_name": "Python 3 (ipykernel)",
   "language": "python",
   "name": "python3"
  },
  "language_info": {
   "codemirror_mode": {
    "name": "ipython",
    "version": 3
   },
   "file_extension": ".py",
   "mimetype": "text/x-python",
   "name": "python",
   "nbconvert_exporter": "python",
   "pygments_lexer": "ipython3",
   "version": "3.9.12"
  }
 },
 "nbformat": 4,
 "nbformat_minor": 5
}
